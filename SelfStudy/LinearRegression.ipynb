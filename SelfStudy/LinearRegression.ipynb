{
 "cells": [
  {
   "cell_type": "code",
   "execution_count": 1,
   "metadata": {},
   "outputs": [],
   "source": [
    "%matplotlib inline\n",
    "\n",
    "import numpy as np # 배열 및 수학 연산\n",
    "import matplotlib.pyplot as plt # 데이터 시각화 \n",
    "from mpl_toolkits import mplot3d # 3D 플롯 생성 "
   ]
  },
  {
   "cell_type": "code",
   "execution_count": 2,
   "metadata": {},
   "outputs": [
    {
     "data": {
      "text/plain": [
       "221.1"
      ]
     },
     "execution_count": 2,
     "metadata": {},
     "output_type": "execute_result"
    }
   ],
   "source": [
    "# 네이티브 한 cost function\n",
    "X = list(range(10))\n",
    "Y = [1, 1, 3, 4, 5, 7, 8, 9, 9, 10]\n",
    "\n",
    "class H(): # hypothesis\n",
    "  def __init__(self, w): # 생성자. w가 input \n",
    "    self.w = w\n",
    "  def forward(self, x): # H를 호출할 때 집어넣은 w를 forward(여기)에 오는 인자에 곱해서 반환 \n",
    "    return self.w * x\n",
    "  \n",
    "def cost(h, X, Y): # cost function\n",
    "  error = 0\n",
    "  for i in range(len(X)):\n",
    "    error += (h.forward(X[i]) - Y[i])**2 # 일반적인 비용함수 \n",
    "  error = error / len(X)\n",
    "  return error\n",
    "h = H(4)\n",
    "cost(h,X,Y)"
   ]
  },
  {
   "cell_type": "code",
   "execution_count": 3,
   "metadata": {},
   "outputs": [
    {
     "data": {
      "text/plain": [
       "<matplotlib.collections.PathCollection at 0x10fc020d0>"
      ]
     },
     "execution_count": 3,
     "metadata": {},
     "output_type": "execute_result"
    },
    {
     "data": {
      "image/png": "[encoded data removed]",
      "text/plain": [
       "<Figure size 100x100 with 1 Axes>"
      ]
     },
     "metadata": {},
     "output_type": "display_data"
    }
   ],
   "source": [
    "list_w = []\n",
    "list_c = []\n",
    "for i in range(-100, 100):\n",
    "  w = i * 0.1\n",
    "  h = H(w)\n",
    "  c = cost(h,X,Y)\n",
    "  list_w.append(w)\n",
    "  list_c.append(c)\n",
    "plt.figure(figsize=(1,1))\n",
    "plt.xlabel('w')\n",
    "plt.ylabel('cost')\n",
    "plt.scatter(list_w, list_c, s=0.1) # input들의 길이가 같아야 함  "
   ]
  },
  {
   "cell_type": "code",
   "execution_count": null,
   "metadata": {},
   "outputs": [
    {
     "data": {
      "text/plain": [
       "<matplotlib.collections.PathCollection at 0x13aa17dd0>"
      ]
     },
     "execution_count": 18,
     "metadata": {},
     "output_type": "execute_result"
    },
    {
     "data": {
      "image/png": "[encoded data removed]",
      "text/plain": [
       "<Figure size 640x480 with 1 Axes>"
      ]
     },
     "metadata": {},
     "output_type": "display_data"
    }
   ],
   "source": [
    "def cal_grad(w, cost): # 값과 함수를 인자로 넣음 -> gradient 계산 \n",
    "  h = H(w)\n",
    "  cost1 = cost(h,X,Y)\n",
    "  eps = 0.001\n",
    "  h = H(w + eps)\n",
    "  cost2 = cost(h,X,Y)\n",
    "  dcost = cost2 - cost1\n",
    "  dw = eps\n",
    "  grad = dcost / dw\n",
    "  return grad, (cost1 + cost2)/2\n",
    "\n",
    "def cal_grad2(w, cost): # 편미분\n",
    "  h = H(w)\n",
    "  grad = 0\n",
    "  for i in range(len(X)):\n",
    "    grad += 2 * (h.forward(X[i]) - Y[i]) * X[i] # 미분계수 2를 다시 복원해야 함 \n",
    "  grad = grad / len(X)\n",
    "  c = cost(h, X,Y)\n",
    "  return grad, c\n",
    "\n",
    "w1 = 1.4\n",
    "w2 = 1.4\n",
    "lr = 0.005\n",
    "list_w1 = []\n",
    "list_w2 = []\n",
    "list_c1 = []\n",
    "list_c2 = []\n",
    "for i in range(10):\n",
    "  grad, mean_cost1 = cal_grad(w1, cost)\n",
    "  grad2, mean_cost2 = cal_grad2(w1, cost)\n",
    "  w1 -= lr * grad\n",
    "  w2 -= lr * grad2\n",
    "  list_w1.append(w1)\n",
    "  list_w2.append(w2)\n",
    "  list_c1.append(mean_cost1)\n",
    "  list_c2.append(mean_cost2)\n",
    "  \n",
    "\n",
    "plt.scatter(list_w1, list_w2,c='blue')\n",
    "plt.scatter(list_c1,list_c2,c='red')"
   ]
  },
  {
   "cell_type": "code",
   "execution_count": null,
   "metadata": {},
   "outputs": [],
   "source": []
  },
  {
   "cell_type": "code",
   "execution_count": null,
   "metadata": {},
   "outputs": [],
   "source": []
  }
 ],
 "metadata": {
  "kernelspec": {
   "display_name": "base",
   "language": "python",
   "name": "python3"
  },
  "language_info": {
   "codemirror_mode": {
    "name": "ipython",
    "version": 3
   },
   "file_extension": ".py",
   "mimetype": "text/x-python",
   "name": "python",
   "nbconvert_exporter": "python",
   "pygments_lexer": "ipython3",
   "version": "3.11.7"
  }
 },
 "nbformat": 4,
 "nbformat_minor": 2
}
