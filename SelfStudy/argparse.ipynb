{
 "cells": [
  {
   "cell_type": "code",
   "execution_count": 5,
   "metadata": {},
   "outputs": [
    {
     "name": "stdout",
     "output_type": "stream",
     "text": [
      "5\n",
      "Namespace(num_layers=5)\n",
      "Namespace(num_layers=5, in_dim=100)\n",
      "[0, 1, 2, 3, 4]\n",
      "{'num_layers': 5, 'in_dim': 100} <class 'dict'>\n"
     ]
    }
   ],
   "source": [
    "import argparse\n",
    "from ast import arg\n",
    "parser = argparse.ArgumentParser()\n",
    "args = parser.parse_args(\"\")\n",
    "\n",
    "args.num_layers = 5\n",
    "print(args.num_layers)\n",
    "print(args)\n",
    "\n",
    "args.in_dim = 100\n",
    "print(args) # dictionary같은 형태다~! -> 근데 타이핑하기 더 쉬운게 argparse.\n",
    "\n",
    "linears = []\n",
    "for i in range(args.num_layers):\n",
    "  linears.append(i)\n",
    "  \n",
    "print(linears)\n",
    "\n",
    "d = vars(args) # 객체 형식을 딕셔너리로 매핑해줌 \n",
    "print(d, type(d))\n"
   ]
  },
  {
   "cell_type": "markdown",
   "metadata": {},
   "source": [
    "## - 항상 하이퍼파라미터는 함수 스코프 밖에서 관리하자!\n",
    "\n",
    "## - Argparse를 사용하면 알아서 처리를 잘 해주니 적극 활용하자!\n"
   ]
  }
 ],
 "metadata": {
  "kernelspec": {
   "display_name": "base",
   "language": "python",
   "name": "python3"
  },
  "language_info": {
   "codemirror_mode": {
    "name": "ipython",
    "version": 3
   },
   "file_extension": ".py",
   "mimetype": "text/x-python",
   "name": "python",
   "nbconvert_exporter": "python",
   "pygments_lexer": "ipython3",
   "version": "3.11.7"
  }
 },
 "nbformat": 4,
 "nbformat_minor": 2
}
